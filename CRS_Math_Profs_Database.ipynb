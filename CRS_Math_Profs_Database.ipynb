{
 "cells": [
  {
   "cell_type": "markdown",
   "metadata": {
    "id": "I_U4lkgmV9Ak"
   },
   "source": [
    "# CRS Math Profs Database"
   ]
  },
  {
   "cell_type": "markdown",
   "metadata": {
    "id": "F1Cti_lNV_ea"
   },
   "source": [
    "By:\n",
    "\n",
    "Mariano, Isaiah\n",
    "\n",
    "Montealto, Meluisa\n",
    "\n",
    "Regalario, Jeremiah"
   ]
  },
  {
   "cell_type": "markdown",
   "metadata": {},
   "source": [
    "# Import Dependencies"
   ]
  },
  {
   "cell_type": "code",
   "execution_count": 1,
   "metadata": {
    "id": "ZznBTdKuY-7R"
   },
   "outputs": [],
   "source": [
    "import requests\n",
    "import pandas as pd\n",
    "from bs4 import BeautifulSoup\n",
    "import numpy as np\n",
    "import re\n",
    "import datetime\n",
    "from sklearn.model_selection import train_test_split\n",
    "from sklearn.ensemble import RandomForestClassifier\n",
    "from sklearn.preprocessing import LabelEncoder\n",
    "from sklearn.metrics import accuracy_score\n",
    "from sklearn.model_selection import RandomizedSearchCV, StratifiedKFold\n",
    "import matplotlib.pyplot as plt\n",
    "import random\n",
    "\n",
    "pd.set_option('display.max_rows', None)\n",
    "pd.set_option('display.max_columns', None)"
   ]
  },
  {
   "cell_type": "markdown",
   "metadata": {
    "id": "Q6ak5nb6WKu9"
   },
   "source": [
    "# Webscrape Data from CRS"
   ]
  },
  {
   "cell_type": "markdown",
   "metadata": {
    "id": "8LptNidOreNM"
   },
   "source": [
    "## Links"
   ]
  },
  {
   "cell_type": "code",
   "execution_count": 2,
   "metadata": {
    "id": "LmbMkCn0rD8z"
   },
   "outputs": [],
   "source": [
    "first_sem = \"https://crs.upd.edu.ph/schedule/1{}1/Math\"\n",
    "second_sem = \"https://crs.upd.edu.ph/schedule/1{}2/Math\"\n",
    "midyr = \"https://crs.upd.edu.ph/schedule/1{}4/Math\""
   ]
  },
  {
   "cell_type": "markdown",
   "metadata": {
    "id": "HErBfiAtrgwi"
   },
   "source": [
    "## Enter Year Range"
   ]
  },
  {
   "cell_type": "code",
   "execution_count": 3,
   "metadata": {
    "id": "10yERFUJrlnt"
   },
   "outputs": [],
   "source": [
    "first_year = 2018\n",
    "last_year = 2024"
   ]
  },
  {
   "cell_type": "code",
   "execution_count": 4,
   "metadata": {
    "id": "JOHmLcJBrUPV"
   },
   "outputs": [],
   "source": [
    "links = []\n",
    "for i in range(first_year, last_year + 1):\n",
    "  exec(f\"AY{i}{i + 1}A = first_sem.format(i)\")\n",
    "  exec(f\"AY{i}{i + 1}B = second_sem.format(i)\")\n",
    "  exec(f\"AY{i}{i + 1}M = midyr.format(i)\")\n",
    "  exec(f\"links.append(AY{i}{i + 1}A)\")\n",
    "  exec(f\"links.append(AY{i}{i + 1}B)\")\n",
    "  exec(f\"links.append(AY{i}{i + 1}M)\")"
   ]
  },
  {
   "cell_type": "code",
   "execution_count": 5,
   "metadata": {
    "colab": {
     "base_uri": "https://localhost:8080/",
     "height": 35
    },
    "id": "cFMwmGFPsX-C",
    "outputId": "474077a4-e1ff-427b-d145-85be2fa82048"
   },
   "outputs": [
    {
     "data": {
      "text/plain": [
       "'https://crs.upd.edu.ph/schedule/120242/Math'"
      ]
     },
     "execution_count": 5,
     "metadata": {},
     "output_type": "execute_result"
    }
   ],
   "source": [
    "AY20242025B"
   ]
  },
  {
   "cell_type": "code",
   "execution_count": 6,
   "metadata": {
    "colab": {
     "base_uri": "https://localhost:8080/"
    },
    "id": "Oehs4OB3tw1w",
    "outputId": "ab764ccb-3ca1-45b7-cca3-86a9358ebae7"
   },
   "outputs": [
    {
     "data": {
      "text/plain": [
       "['https://crs.upd.edu.ph/schedule/120181/Math',\n",
       " 'https://crs.upd.edu.ph/schedule/120182/Math',\n",
       " 'https://crs.upd.edu.ph/schedule/120184/Math',\n",
       " 'https://crs.upd.edu.ph/schedule/120191/Math',\n",
       " 'https://crs.upd.edu.ph/schedule/120192/Math',\n",
       " 'https://crs.upd.edu.ph/schedule/120194/Math',\n",
       " 'https://crs.upd.edu.ph/schedule/120201/Math',\n",
       " 'https://crs.upd.edu.ph/schedule/120202/Math',\n",
       " 'https://crs.upd.edu.ph/schedule/120204/Math',\n",
       " 'https://crs.upd.edu.ph/schedule/120211/Math',\n",
       " 'https://crs.upd.edu.ph/schedule/120212/Math',\n",
       " 'https://crs.upd.edu.ph/schedule/120214/Math',\n",
       " 'https://crs.upd.edu.ph/schedule/120221/Math',\n",
       " 'https://crs.upd.edu.ph/schedule/120222/Math',\n",
       " 'https://crs.upd.edu.ph/schedule/120224/Math',\n",
       " 'https://crs.upd.edu.ph/schedule/120231/Math',\n",
       " 'https://crs.upd.edu.ph/schedule/120232/Math',\n",
       " 'https://crs.upd.edu.ph/schedule/120234/Math',\n",
       " 'https://crs.upd.edu.ph/schedule/120241/Math',\n",
       " 'https://crs.upd.edu.ph/schedule/120242/Math',\n",
       " 'https://crs.upd.edu.ph/schedule/120244/Math']"
      ]
     },
     "execution_count": 6,
     "metadata": {},
     "output_type": "execute_result"
    }
   ],
   "source": [
    "links"
   ]
  },
  {
   "cell_type": "code",
   "execution_count": 7,
   "metadata": {
    "colab": {
     "base_uri": "https://localhost:8080/",
     "height": 35
    },
    "id": "_GNDxYNVHMxT",
    "outputId": "dc39dfdd-f0e4-4e2c-ba80-b3262353c80b"
   },
   "outputs": [
    {
     "data": {
      "text/plain": [
       "'120181'"
      ]
     },
     "execution_count": 7,
     "metadata": {},
     "output_type": "execute_result"
    }
   ],
   "source": [
    "link = links[0]\n",
    "identifier = link.split(\"/\")[4]\n",
    "identifier"
   ]
  },
  {
   "cell_type": "markdown",
   "metadata": {
    "id": "gPLBCLyvpyyy"
   },
   "source": [
    "## Webscraping using BeautifulSoup"
   ]
  },
  {
   "cell_type": "code",
   "execution_count": 8,
   "metadata": {
    "id": "WflmA38pECE7"
   },
   "outputs": [],
   "source": [
    "# Function to map semester numbers to names\n",
    "def convert_semester(sem):\n",
    "    mapping = {\n",
    "        '1': '1st sem',\n",
    "        '2': '2nd sem',\n",
    "        '4': 'Midyear'\n",
    "    }\n",
    "    return mapping.get(sem, 'Unknown')"
   ]
  },
  {
   "cell_type": "code",
   "execution_count": 9,
   "metadata": {
    "id": "CYtJXwdZiuda"
   },
   "outputs": [],
   "source": [
    "for link in links:\n",
    "\n",
    "  page = requests.get(link)\n",
    "  soup = BeautifulSoup(page.content, \"html.parser\")\n",
    "\n",
    "  table = soup.find(\"table\")\n",
    "  headers = []\n",
    "  for header in table.find_all('th'):\n",
    "      headers.append(header.text.strip())\n",
    "  rows = []\n",
    "  for row in table.find_all('tr'):\n",
    "      cells = row.find_all(['td', 'th'])\n",
    "      cells = [cell.text.strip() for cell in cells]\n",
    "      rows.append(cells)\n",
    "  identifier = link.split(\"/\")[4]\n",
    "  exec(\"df{} = pd.DataFrame(rows, columns=headers)\".format(identifier))\n",
    "  exec(\"df{}['Year'] = identifier[1:5]\".format(identifier)) #Start year\n",
    "  exec(\"df{}['Semester'] = identifier[-1]\".format(identifier)) #Semester\n",
    "  exec(\"df{}['Semester'] = df{}['Semester'].apply(convert_semester)\".format(identifier, identifier))\n",
    "  exec(\"df{} = df{}.drop(df{}.index[0])\".format(identifier, identifier, identifier))"
   ]
  },
  {
   "cell_type": "code",
   "execution_count": 10,
   "metadata": {
    "colab": {
     "base_uri": "https://localhost:8080/",
     "height": 206
    },
    "id": "QXjBaRZYkoQE",
    "outputId": "38c9e05e-e8d9-4e17-b71f-ce042888066f"
   },
   "outputs": [
    {
     "data": {
      "text/html": [
       "<div>\n",
       "<style scoped>\n",
       "    .dataframe tbody tr th:only-of-type {\n",
       "        vertical-align: middle;\n",
       "    }\n",
       "\n",
       "    .dataframe tbody tr th {\n",
       "        vertical-align: top;\n",
       "    }\n",
       "\n",
       "    .dataframe thead th {\n",
       "        text-align: right;\n",
       "    }\n",
       "</style>\n",
       "<table border=\"1\" class=\"dataframe\">\n",
       "  <thead>\n",
       "    <tr style=\"text-align: right;\">\n",
       "      <th></th>\n",
       "      <th>Class Code</th>\n",
       "      <th>Class</th>\n",
       "      <th>Credits</th>\n",
       "      <th>Schedule\\n\\t\\tInstructor(s)\\n\\t\\tRemarks</th>\n",
       "      <th>Enlisting Unit : BlockBlock Remarks</th>\n",
       "      <th>Available Slots /\\n\\t\\tTotal Slots</th>\n",
       "      <th>Demand</th>\n",
       "      <th>Restrictions</th>\n",
       "      <th>Year</th>\n",
       "      <th>Semester</th>\n",
       "    </tr>\n",
       "  </thead>\n",
       "  <tbody>\n",
       "    <tr>\n",
       "      <th>1</th>\n",
       "      <td>39233</td>\n",
       "      <td>Math 2 THR</td>\n",
       "      <td>3.0</td>\n",
       "      <td>TTh 8:30-10AM lec MBAN 306\\n\\t\\t\\tCONSORTE, OD...</td>\n",
       "      <td>MATH</td>\n",
       "      <td>0 /\\n\\t\\t\\t\\t51</td>\n",
       "      <td>0</td>\n",
       "      <td>For: BS HE(2 slots), AIT(3 slots)</td>\n",
       "      <td>2023</td>\n",
       "      <td>1st sem</td>\n",
       "    </tr>\n",
       "    <tr>\n",
       "      <th>2</th>\n",
       "      <td>39235</td>\n",
       "      <td>Math 2 THU</td>\n",
       "      <td>3.0</td>\n",
       "      <td>TTh 10-11:30AM lec MBAN 306\\n\\t\\t\\tAGUILAR, AD...</td>\n",
       "      <td>MATH</td>\n",
       "      <td>0 /\\n\\t\\t\\t\\t52</td>\n",
       "      <td>0</td>\n",
       "      <td></td>\n",
       "      <td>2023</td>\n",
       "      <td>1st sem</td>\n",
       "    </tr>\n",
       "    <tr>\n",
       "      <th>3</th>\n",
       "      <td>39430</td>\n",
       "      <td>Math 2 THU-1</td>\n",
       "      <td>3.0</td>\n",
       "      <td>TTh 10-11:30AM lec MBAN 312\\n\\t\\t\\tLUY, JASMIN...</td>\n",
       "      <td>MATH</td>\n",
       "      <td>0 /\\n\\t\\t\\t\\t30</td>\n",
       "      <td>0</td>\n",
       "      <td></td>\n",
       "      <td>2023</td>\n",
       "      <td>1st sem</td>\n",
       "    </tr>\n",
       "    <tr>\n",
       "      <th>4</th>\n",
       "      <td>39234</td>\n",
       "      <td>Math 2 THW</td>\n",
       "      <td>3.0</td>\n",
       "      <td>TTh 1-2:30PM lec MBAN 306\\n\\t\\t\\tABARA, MA. NE...</td>\n",
       "      <td>MATH</td>\n",
       "      <td>0 /\\n\\t\\t\\t\\t56</td>\n",
       "      <td>0</td>\n",
       "      <td></td>\n",
       "      <td>2023</td>\n",
       "      <td>1st sem</td>\n",
       "    </tr>\n",
       "    <tr>\n",
       "      <th>5</th>\n",
       "      <td>39242</td>\n",
       "      <td>Math 2 WFU</td>\n",
       "      <td>3.0</td>\n",
       "      <td>WF 10-11:30AM lec MBAN 306\\n\\t\\t\\tGALVEZ, LUCK...</td>\n",
       "      <td>MATH</td>\n",
       "      <td>0 /\\n\\t\\t\\t\\t51</td>\n",
       "      <td>0</td>\n",
       "      <td>For: BA Film(1 slots), BA BMAS(1 slots), SLIS(...</td>\n",
       "      <td>2023</td>\n",
       "      <td>1st sem</td>\n",
       "    </tr>\n",
       "  </tbody>\n",
       "</table>\n",
       "</div>"
      ],
      "text/plain": [
       "  Class Code         Class Credits  \\\n",
       "1      39233    Math 2 THR     3.0   \n",
       "2      39235    Math 2 THU     3.0   \n",
       "3      39430  Math 2 THU-1     3.0   \n",
       "4      39234    Math 2 THW     3.0   \n",
       "5      39242    Math 2 WFU     3.0   \n",
       "\n",
       "            Schedule\\n\\t\\tInstructor(s)\\n\\t\\tRemarks  \\\n",
       "1  TTh 8:30-10AM lec MBAN 306\\n\\t\\t\\tCONSORTE, OD...   \n",
       "2  TTh 10-11:30AM lec MBAN 306\\n\\t\\t\\tAGUILAR, AD...   \n",
       "3  TTh 10-11:30AM lec MBAN 312\\n\\t\\t\\tLUY, JASMIN...   \n",
       "4  TTh 1-2:30PM lec MBAN 306\\n\\t\\t\\tABARA, MA. NE...   \n",
       "5  WF 10-11:30AM lec MBAN 306\\n\\t\\t\\tGALVEZ, LUCK...   \n",
       "\n",
       "  Enlisting Unit : BlockBlock Remarks Available Slots /\\n\\t\\tTotal Slots  \\\n",
       "1                                MATH                    0 /\\n\\t\\t\\t\\t51   \n",
       "2                                MATH                    0 /\\n\\t\\t\\t\\t52   \n",
       "3                                MATH                    0 /\\n\\t\\t\\t\\t30   \n",
       "4                                MATH                    0 /\\n\\t\\t\\t\\t56   \n",
       "5                                MATH                    0 /\\n\\t\\t\\t\\t51   \n",
       "\n",
       "  Demand                                       Restrictions  Year Semester  \n",
       "1      0                  For: BS HE(2 slots), AIT(3 slots)  2023  1st sem  \n",
       "2      0                                                     2023  1st sem  \n",
       "3      0                                                     2023  1st sem  \n",
       "4      0                                                     2023  1st sem  \n",
       "5      0  For: BA Film(1 slots), BA BMAS(1 slots), SLIS(...  2023  1st sem  "
      ]
     },
     "execution_count": 10,
     "metadata": {},
     "output_type": "execute_result"
    }
   ],
   "source": [
    "df120231.head()"
   ]
  },
  {
   "cell_type": "code",
   "execution_count": 11,
   "metadata": {
    "colab": {
     "base_uri": "https://localhost:8080/"
    },
    "id": "7PJx-5rf132a",
    "outputId": "70155b0f-396b-4844-d396-8e09ad3aca7b"
   },
   "outputs": [
    {
     "data": {
      "text/plain": [
       "303"
      ]
     },
     "execution_count": 11,
     "metadata": {},
     "output_type": "execute_result"
    }
   ],
   "source": [
    "len(df120231)"
   ]
  },
  {
   "cell_type": "markdown",
   "metadata": {
    "id": "HSLPCIDJcT2I"
   },
   "source": [
    "## Concatenate DataFrames"
   ]
  },
  {
   "cell_type": "code",
   "execution_count": 12,
   "metadata": {
    "id": "ODzgiTA5z_br"
   },
   "outputs": [],
   "source": [
    "for link in links[1:]:\n",
    "  identifier = link.split(\"/\")[4]\n",
    "  exec(\"df120181 = pd.concat([df120181, df{}])\".format(identifier))\n",
    "df = df120181.copy()"
   ]
  },
  {
   "cell_type": "code",
   "execution_count": 13,
   "metadata": {
    "colab": {
     "base_uri": "https://localhost:8080/"
    },
    "id": "s3TXAf5d1oMm",
    "outputId": "a9e02f90-687e-4367-edd7-0550673bdb03"
   },
   "outputs": [
    {
     "data": {
      "text/plain": [
       "4328"
      ]
     },
     "execution_count": 13,
     "metadata": {},
     "output_type": "execute_result"
    }
   ],
   "source": [
    "len(df)"
   ]
  },
  {
   "cell_type": "markdown",
   "metadata": {
    "id": "3UES_tbGeMkc"
   },
   "source": [
    "# Data Cleaning"
   ]
  },
  {
   "cell_type": "code",
   "execution_count": 14,
   "metadata": {
    "colab": {
     "base_uri": "https://localhost:8080/",
     "height": 206
    },
    "id": "ELH4nsxE1xtl",
    "outputId": "55ec9b2d-863d-4ae6-a44c-bd4fab2bbd4f"
   },
   "outputs": [
    {
     "data": {
      "text/html": [
       "<div>\n",
       "<style scoped>\n",
       "    .dataframe tbody tr th:only-of-type {\n",
       "        vertical-align: middle;\n",
       "    }\n",
       "\n",
       "    .dataframe tbody tr th {\n",
       "        vertical-align: top;\n",
       "    }\n",
       "\n",
       "    .dataframe thead th {\n",
       "        text-align: right;\n",
       "    }\n",
       "</style>\n",
       "<table border=\"1\" class=\"dataframe\">\n",
       "  <thead>\n",
       "    <tr style=\"text-align: right;\">\n",
       "      <th></th>\n",
       "      <th>Class Code</th>\n",
       "      <th>Class</th>\n",
       "      <th>Credits</th>\n",
       "      <th>Schedule\\n\\t\\tInstructor(s)\\n\\t\\tRemarks</th>\n",
       "      <th>Enlisting Unit : BlockBlock Remarks</th>\n",
       "      <th>Available Slots /\\n\\t\\tTotal Slots</th>\n",
       "      <th>Demand</th>\n",
       "      <th>Restrictions</th>\n",
       "      <th>Year</th>\n",
       "      <th>Semester</th>\n",
       "    </tr>\n",
       "  </thead>\n",
       "  <tbody>\n",
       "    <tr>\n",
       "      <th>1</th>\n",
       "      <td>39236</td>\n",
       "      <td>Math 2 THR</td>\n",
       "      <td>3.0</td>\n",
       "      <td>TTh 8:30-10AM lec TBA\\n\\t\\t\\tWALO, MA. LAILANI...</td>\n",
       "      <td>MATH</td>\n",
       "      <td>1 /\\n\\t\\t\\t\\t64</td>\n",
       "      <td>0</td>\n",
       "      <td></td>\n",
       "      <td>2018</td>\n",
       "      <td>1st sem</td>\n",
       "    </tr>\n",
       "    <tr>\n",
       "      <th>2</th>\n",
       "      <td>39398</td>\n",
       "      <td>Math 2 THU</td>\n",
       "      <td>3.0</td>\n",
       "      <td>TTh 10-11:30AM lec TBA\\n\\t\\t\\tCEJO, ROBERT JAY...</td>\n",
       "      <td>MATH</td>\n",
       "      <td>0 /\\n\\t\\t\\t\\t59</td>\n",
       "      <td>0</td>\n",
       "      <td></td>\n",
       "      <td>2018</td>\n",
       "      <td>1st sem</td>\n",
       "    </tr>\n",
       "    <tr>\n",
       "      <th>3</th>\n",
       "      <td>39238</td>\n",
       "      <td>Math 2 THV</td>\n",
       "      <td>3.0</td>\n",
       "      <td>TTh 11:30AM-1PM lec TBA\\n\\t\\t\\tWALO, MA. LAILA...</td>\n",
       "      <td>MATH</td>\n",
       "      <td>0 /\\n\\t\\t\\t\\t63</td>\n",
       "      <td>0</td>\n",
       "      <td></td>\n",
       "      <td>2018</td>\n",
       "      <td>1st sem</td>\n",
       "    </tr>\n",
       "    <tr>\n",
       "      <th>4</th>\n",
       "      <td>39237</td>\n",
       "      <td>Math 2 WFV</td>\n",
       "      <td>3.0</td>\n",
       "      <td>WF 11:30AM-1PM lec TBA\\n\\t\\t\\tAGUILAR, ADJANI\\...</td>\n",
       "      <td>MATH</td>\n",
       "      <td>0 /\\n\\t\\t\\t\\t65</td>\n",
       "      <td>0</td>\n",
       "      <td></td>\n",
       "      <td>2018</td>\n",
       "      <td>1st sem</td>\n",
       "    </tr>\n",
       "    <tr>\n",
       "      <th>5</th>\n",
       "      <td>39315</td>\n",
       "      <td>Math 10 THR</td>\n",
       "      <td>3.0</td>\n",
       "      <td>TTh 8:30-10AM lec TBA\\n\\t\\t\\tARCEO, CARLENE PE...</td>\n",
       "      <td>MATH</td>\n",
       "      <td>0 /\\n\\t\\t\\t\\t97</td>\n",
       "      <td>0</td>\n",
       "      <td></td>\n",
       "      <td>2018</td>\n",
       "      <td>1st sem</td>\n",
       "    </tr>\n",
       "  </tbody>\n",
       "</table>\n",
       "</div>"
      ],
      "text/plain": [
       "  Class Code        Class Credits  \\\n",
       "1      39236   Math 2 THR     3.0   \n",
       "2      39398   Math 2 THU     3.0   \n",
       "3      39238   Math 2 THV     3.0   \n",
       "4      39237   Math 2 WFV     3.0   \n",
       "5      39315  Math 10 THR     3.0   \n",
       "\n",
       "            Schedule\\n\\t\\tInstructor(s)\\n\\t\\tRemarks  \\\n",
       "1  TTh 8:30-10AM lec TBA\\n\\t\\t\\tWALO, MA. LAILANI...   \n",
       "2  TTh 10-11:30AM lec TBA\\n\\t\\t\\tCEJO, ROBERT JAY...   \n",
       "3  TTh 11:30AM-1PM lec TBA\\n\\t\\t\\tWALO, MA. LAILA...   \n",
       "4  WF 11:30AM-1PM lec TBA\\n\\t\\t\\tAGUILAR, ADJANI\\...   \n",
       "5  TTh 8:30-10AM lec TBA\\n\\t\\t\\tARCEO, CARLENE PE...   \n",
       "\n",
       "  Enlisting Unit : BlockBlock Remarks Available Slots /\\n\\t\\tTotal Slots  \\\n",
       "1                                MATH                    1 /\\n\\t\\t\\t\\t64   \n",
       "2                                MATH                    0 /\\n\\t\\t\\t\\t59   \n",
       "3                                MATH                    0 /\\n\\t\\t\\t\\t63   \n",
       "4                                MATH                    0 /\\n\\t\\t\\t\\t65   \n",
       "5                                MATH                    0 /\\n\\t\\t\\t\\t97   \n",
       "\n",
       "  Demand Restrictions  Year Semester  \n",
       "1      0               2018  1st sem  \n",
       "2      0               2018  1st sem  \n",
       "3      0               2018  1st sem  \n",
       "4      0               2018  1st sem  \n",
       "5      0               2018  1st sem  "
      ]
     },
     "execution_count": 14,
     "metadata": {},
     "output_type": "execute_result"
    }
   ],
   "source": [
    "df.head()"
   ]
  },
  {
   "cell_type": "markdown",
   "metadata": {
    "id": "k-qdaqyv4xh8"
   },
   "source": [
    "## Selected Columns"
   ]
  },
  {
   "cell_type": "code",
   "execution_count": 15,
   "metadata": {
    "colab": {
     "base_uri": "https://localhost:8080/",
     "height": 206
    },
    "id": "SRdc4qdy4s0J",
    "outputId": "a3fe9cef-bc50-41e3-8b65-b7eb9627229f"
   },
   "outputs": [
    {
     "data": {
      "text/html": [
       "<div>\n",
       "<style scoped>\n",
       "    .dataframe tbody tr th:only-of-type {\n",
       "        vertical-align: middle;\n",
       "    }\n",
       "\n",
       "    .dataframe tbody tr th {\n",
       "        vertical-align: top;\n",
       "    }\n",
       "\n",
       "    .dataframe thead th {\n",
       "        text-align: right;\n",
       "    }\n",
       "</style>\n",
       "<table border=\"1\" class=\"dataframe\">\n",
       "  <thead>\n",
       "    <tr style=\"text-align: right;\">\n",
       "      <th></th>\n",
       "      <th>Class</th>\n",
       "      <th>Schedule\\n\\t\\tInstructor(s)\\n\\t\\tRemarks</th>\n",
       "      <th>Year</th>\n",
       "      <th>Semester</th>\n",
       "    </tr>\n",
       "  </thead>\n",
       "  <tbody>\n",
       "    <tr>\n",
       "      <th>1</th>\n",
       "      <td>Math 2 THR</td>\n",
       "      <td>TTh 8:30-10AM lec TBA\\n\\t\\t\\tWALO, MA. LAILANI...</td>\n",
       "      <td>2018</td>\n",
       "      <td>1st sem</td>\n",
       "    </tr>\n",
       "    <tr>\n",
       "      <th>2</th>\n",
       "      <td>Math 2 THU</td>\n",
       "      <td>TTh 10-11:30AM lec TBA\\n\\t\\t\\tCEJO, ROBERT JAY...</td>\n",
       "      <td>2018</td>\n",
       "      <td>1st sem</td>\n",
       "    </tr>\n",
       "    <tr>\n",
       "      <th>3</th>\n",
       "      <td>Math 2 THV</td>\n",
       "      <td>TTh 11:30AM-1PM lec TBA\\n\\t\\t\\tWALO, MA. LAILA...</td>\n",
       "      <td>2018</td>\n",
       "      <td>1st sem</td>\n",
       "    </tr>\n",
       "    <tr>\n",
       "      <th>4</th>\n",
       "      <td>Math 2 WFV</td>\n",
       "      <td>WF 11:30AM-1PM lec TBA\\n\\t\\t\\tAGUILAR, ADJANI\\...</td>\n",
       "      <td>2018</td>\n",
       "      <td>1st sem</td>\n",
       "    </tr>\n",
       "    <tr>\n",
       "      <th>5</th>\n",
       "      <td>Math 10 THR</td>\n",
       "      <td>TTh 8:30-10AM lec TBA\\n\\t\\t\\tARCEO, CARLENE PE...</td>\n",
       "      <td>2018</td>\n",
       "      <td>1st sem</td>\n",
       "    </tr>\n",
       "  </tbody>\n",
       "</table>\n",
       "</div>"
      ],
      "text/plain": [
       "         Class           Schedule\\n\\t\\tInstructor(s)\\n\\t\\tRemarks  Year  \\\n",
       "1   Math 2 THR  TTh 8:30-10AM lec TBA\\n\\t\\t\\tWALO, MA. LAILANI...  2018   \n",
       "2   Math 2 THU  TTh 10-11:30AM lec TBA\\n\\t\\t\\tCEJO, ROBERT JAY...  2018   \n",
       "3   Math 2 THV  TTh 11:30AM-1PM lec TBA\\n\\t\\t\\tWALO, MA. LAILA...  2018   \n",
       "4   Math 2 WFV  WF 11:30AM-1PM lec TBA\\n\\t\\t\\tAGUILAR, ADJANI\\...  2018   \n",
       "5  Math 10 THR  TTh 8:30-10AM lec TBA\\n\\t\\t\\tARCEO, CARLENE PE...  2018   \n",
       "\n",
       "  Semester  \n",
       "1  1st sem  \n",
       "2  1st sem  \n",
       "3  1st sem  \n",
       "4  1st sem  \n",
       "5  1st sem  "
      ]
     },
     "execution_count": 15,
     "metadata": {},
     "output_type": "execute_result"
    }
   ],
   "source": [
    "df = df[['Class', 'Schedule\\n\\t\\tInstructor(s)\\n\\t\\tRemarks', 'Year', 'Semester']]\n",
    "df.head()"
   ]
  },
  {
   "cell_type": "markdown",
   "metadata": {
    "id": "g06ptolg7Z5c"
   },
   "source": [
    "## Math Class Number"
   ]
  },
  {
   "cell_type": "code",
   "execution_count": 16,
   "metadata": {
    "colab": {
     "base_uri": "https://localhost:8080/",
     "height": 206
    },
    "id": "fw967mTv6psz",
    "outputId": "a3566920-7cac-4362-d691-d39f77a9946a"
   },
   "outputs": [
    {
     "data": {
      "text/html": [
       "<div>\n",
       "<style scoped>\n",
       "    .dataframe tbody tr th:only-of-type {\n",
       "        vertical-align: middle;\n",
       "    }\n",
       "\n",
       "    .dataframe tbody tr th {\n",
       "        vertical-align: top;\n",
       "    }\n",
       "\n",
       "    .dataframe thead th {\n",
       "        text-align: right;\n",
       "    }\n",
       "</style>\n",
       "<table border=\"1\" class=\"dataframe\">\n",
       "  <thead>\n",
       "    <tr style=\"text-align: right;\">\n",
       "      <th></th>\n",
       "      <th>Class</th>\n",
       "      <th>Schedule\\n\\t\\tInstructor(s)\\n\\t\\tRemarks</th>\n",
       "      <th>Year</th>\n",
       "      <th>Semester</th>\n",
       "      <th>Number</th>\n",
       "    </tr>\n",
       "  </thead>\n",
       "  <tbody>\n",
       "    <tr>\n",
       "      <th>1</th>\n",
       "      <td>Math 2 THR</td>\n",
       "      <td>TTh 8:30-10AM lec TBA\\n\\t\\t\\tWALO, MA. LAILANI...</td>\n",
       "      <td>2018</td>\n",
       "      <td>1st sem</td>\n",
       "      <td>2</td>\n",
       "    </tr>\n",
       "    <tr>\n",
       "      <th>2</th>\n",
       "      <td>Math 2 THU</td>\n",
       "      <td>TTh 10-11:30AM lec TBA\\n\\t\\t\\tCEJO, ROBERT JAY...</td>\n",
       "      <td>2018</td>\n",
       "      <td>1st sem</td>\n",
       "      <td>2</td>\n",
       "    </tr>\n",
       "    <tr>\n",
       "      <th>3</th>\n",
       "      <td>Math 2 THV</td>\n",
       "      <td>TTh 11:30AM-1PM lec TBA\\n\\t\\t\\tWALO, MA. LAILA...</td>\n",
       "      <td>2018</td>\n",
       "      <td>1st sem</td>\n",
       "      <td>2</td>\n",
       "    </tr>\n",
       "    <tr>\n",
       "      <th>4</th>\n",
       "      <td>Math 2 WFV</td>\n",
       "      <td>WF 11:30AM-1PM lec TBA\\n\\t\\t\\tAGUILAR, ADJANI\\...</td>\n",
       "      <td>2018</td>\n",
       "      <td>1st sem</td>\n",
       "      <td>2</td>\n",
       "    </tr>\n",
       "    <tr>\n",
       "      <th>5</th>\n",
       "      <td>Math 10 THR</td>\n",
       "      <td>TTh 8:30-10AM lec TBA\\n\\t\\t\\tARCEO, CARLENE PE...</td>\n",
       "      <td>2018</td>\n",
       "      <td>1st sem</td>\n",
       "      <td>10</td>\n",
       "    </tr>\n",
       "  </tbody>\n",
       "</table>\n",
       "</div>"
      ],
      "text/plain": [
       "         Class           Schedule\\n\\t\\tInstructor(s)\\n\\t\\tRemarks  Year  \\\n",
       "1   Math 2 THR  TTh 8:30-10AM lec TBA\\n\\t\\t\\tWALO, MA. LAILANI...  2018   \n",
       "2   Math 2 THU  TTh 10-11:30AM lec TBA\\n\\t\\t\\tCEJO, ROBERT JAY...  2018   \n",
       "3   Math 2 THV  TTh 11:30AM-1PM lec TBA\\n\\t\\t\\tWALO, MA. LAILA...  2018   \n",
       "4   Math 2 WFV  WF 11:30AM-1PM lec TBA\\n\\t\\t\\tAGUILAR, ADJANI\\...  2018   \n",
       "5  Math 10 THR  TTh 8:30-10AM lec TBA\\n\\t\\t\\tARCEO, CARLENE PE...  2018   \n",
       "\n",
       "  Semester Number  \n",
       "1  1st sem      2  \n",
       "2  1st sem      2  \n",
       "3  1st sem      2  \n",
       "4  1st sem      2  \n",
       "5  1st sem     10  "
      ]
     },
     "execution_count": 16,
     "metadata": {},
     "output_type": "execute_result"
    }
   ],
   "source": [
    "df['Number'] = df['Class'].str.split().str[1]\n",
    "df.head()"
   ]
  },
  {
   "cell_type": "code",
   "execution_count": 17,
   "metadata": {
    "colab": {
     "base_uri": "https://localhost:8080/"
    },
    "id": "RstbtInc7oY6",
    "outputId": "beee920b-fb16-4d67-d4a9-bf903774686b"
   },
   "outputs": [
    {
     "data": {
      "text/plain": [
       "array(['2', '10', '11', '14', '17', '20', '21', '30', '40', '53', '54',\n",
       "       '55', '100', '102', '109', '110.1', '110.2', '110.3', '117', '121',\n",
       "       '122', '123.1', '123.2', '128', '147', '150.1', '162', '164',\n",
       "       '171', '180.1', '197', '200', '201', '202.1', '203', '205', '208',\n",
       "       '209.1', '210.1', '211', '214', '220.1', '221', '222', '228',\n",
       "       '229', '236', '240', '242', '243', '246', '260', '262.1', '265',\n",
       "       '271.1', '280', '290', '294', '296', '297', '300', '400', '22',\n",
       "       '108', '140', '142', '146', '148', '150.2', '196', '202.2', '204',\n",
       "       '209.2', '210.2', '218', '220.2', '235', '241', '247', '250',\n",
       "       '261', '262.2', '266', '271.2', '281', '295', '23', '217', '288',\n",
       "       '249', '216', '133', '158', '190', '227', '126', '166', '282',\n",
       "       '131', '258', '180.2', '262', '268.2'], dtype=object)"
      ]
     },
     "execution_count": 17,
     "metadata": {},
     "output_type": "execute_result"
    }
   ],
   "source": [
    "df['Number'].unique()"
   ]
  },
  {
   "cell_type": "markdown",
   "metadata": {
    "id": "HsVWt_ph8ITA"
   },
   "source": [
    "## Remove / and None"
   ]
  },
  {
   "cell_type": "code",
   "execution_count": 18,
   "metadata": {
    "colab": {
     "base_uri": "https://localhost:8080/"
    },
    "id": "w6v9yKmK7rFB",
    "outputId": "cc8db6e0-ea36-4e3a-b2d6-7b895346fcb1"
   },
   "outputs": [
    {
     "data": {
      "text/plain": [
       "4328"
      ]
     },
     "execution_count": 18,
     "metadata": {},
     "output_type": "execute_result"
    }
   ],
   "source": [
    "df = df[df['Number'] != '/']\n",
    "len(df)"
   ]
  },
  {
   "cell_type": "code",
   "execution_count": 19,
   "metadata": {
    "colab": {
     "base_uri": "https://localhost:8080/"
    },
    "id": "icFsVlKs8N_u",
    "outputId": "e03cf258-eff2-4991-8fa9-fb4610be68d4"
   },
   "outputs": [
    {
     "data": {
      "text/plain": [
       "4328"
      ]
     },
     "execution_count": 19,
     "metadata": {},
     "output_type": "execute_result"
    }
   ],
   "source": [
    "df = df[df['Number'].isna() == False]\n",
    "len(df)"
   ]
  },
  {
   "cell_type": "markdown",
   "metadata": {
    "id": "AbQwlo2y-7A1"
   },
   "source": [
    "## Create Necessary Columns\n"
   ]
  },
  {
   "cell_type": "code",
   "execution_count": 20,
   "metadata": {
    "id": "h0eCF1G674Y5"
   },
   "outputs": [],
   "source": [
    "# Function to extract day, time, and professor\n",
    "def extract_info(schedule):\n",
    "    day_pattern = r'\\b(M|TTh|WF|S|TWThF)\\b'\n",
    "    time_pattern = r'\\b\\d{1,2}(?::\\d{2})?(?:AM|PM)?-\\d{1,2}(?::\\d{2})?(?:AM|PM)?\\b'\n",
    "    prof_pattern = r'(?<=\\n\\t\\t\\t).*$'\n",
    "    room_pattern = r'\\b(TBA|MBAN \\d{3}|MB \\d{3})\\b'\n",
    "\n",
    "    prof_match = re.search(prof_pattern, schedule, re.MULTILINE | re.DOTALL)\n",
    "    prof = prof_match.group().strip() if prof_match else ''\n",
    "\n",
    "    day = re.search(day_pattern, schedule)\n",
    "    time = re.search(time_pattern, schedule)\n",
    "    room = re.search(room_pattern, schedule)\n",
    "\n",
    "    return (\n",
    "        day.group() if day else '',\n",
    "        time.group() if time else '',\n",
    "        room.group() if room else 'TBA',\n",
    "        prof\n",
    "    )\n",
    "\n",
    "# Apply the function to the DataFrame\n",
    "df[['Day', 'Time',  'Room','Prof']] = df['Schedule\\n\\t\\tInstructor(s)\\n\\t\\tRemarks'].apply(lambda x: pd.Series(extract_info(x)))"
   ]
  },
  {
   "cell_type": "code",
   "execution_count": 21,
   "metadata": {
    "id": "uAOxEaQt-_Ik"
   },
   "outputs": [],
   "source": [
    "df['Prof'] = df['Prof'].str.split('\\n').str[0]"
   ]
  },
  {
   "cell_type": "code",
   "execution_count": 22,
   "metadata": {
    "id": "BYLZwcFkNDY-"
   },
   "outputs": [],
   "source": [
    "df = df.dropna(subset=['Prof'])  # Drop rows where 'Prof' is NaN\n",
    "df = df.dropna(subset=['Prof'])  # Drop rows where 'Time' is NaN\n",
    "df = df[~df['Prof'].str.upper().isin(['CONCEALED', 'TBA'])]"
   ]
  },
  {
   "cell_type": "code",
   "execution_count": 23,
   "metadata": {
    "id": "zOdfIkqbGtEp"
   },
   "outputs": [],
   "source": [
    "df = df[[\"Number\", \"Day\", \"Time\",\"Room\", \"Prof\",  \"Year\", \"Semester\"]]"
   ]
  },
  {
   "cell_type": "code",
   "execution_count": 24,
   "metadata": {
    "colab": {
     "base_uri": "https://localhost:8080/",
     "height": 206
    },
    "id": "BuoxGqCmOKKY",
    "outputId": "586fce4f-fce2-4697-d188-e0086aa8aa83"
   },
   "outputs": [
    {
     "data": {
      "text/html": [
       "<div>\n",
       "<style scoped>\n",
       "    .dataframe tbody tr th:only-of-type {\n",
       "        vertical-align: middle;\n",
       "    }\n",
       "\n",
       "    .dataframe tbody tr th {\n",
       "        vertical-align: top;\n",
       "    }\n",
       "\n",
       "    .dataframe thead th {\n",
       "        text-align: right;\n",
       "    }\n",
       "</style>\n",
       "<table border=\"1\" class=\"dataframe\">\n",
       "  <thead>\n",
       "    <tr style=\"text-align: right;\">\n",
       "      <th></th>\n",
       "      <th>Number</th>\n",
       "      <th>Day</th>\n",
       "      <th>Time</th>\n",
       "      <th>Room</th>\n",
       "      <th>Prof</th>\n",
       "      <th>Year</th>\n",
       "      <th>Semester</th>\n",
       "    </tr>\n",
       "  </thead>\n",
       "  <tbody>\n",
       "    <tr>\n",
       "      <th>1</th>\n",
       "      <td>2</td>\n",
       "      <td>TTh</td>\n",
       "      <td>8:30-10AM</td>\n",
       "      <td>TBA</td>\n",
       "      <td>WALO, MA. LAILANI</td>\n",
       "      <td>2018</td>\n",
       "      <td>1st sem</td>\n",
       "    </tr>\n",
       "    <tr>\n",
       "      <th>2</th>\n",
       "      <td>2</td>\n",
       "      <td>TTh</td>\n",
       "      <td>10-11:30AM</td>\n",
       "      <td>TBA</td>\n",
       "      <td>CEJO, ROBERT JAY</td>\n",
       "      <td>2018</td>\n",
       "      <td>1st sem</td>\n",
       "    </tr>\n",
       "    <tr>\n",
       "      <th>3</th>\n",
       "      <td>2</td>\n",
       "      <td>TTh</td>\n",
       "      <td>11:30AM-1PM</td>\n",
       "      <td>TBA</td>\n",
       "      <td>WALO, MA. LAILANI</td>\n",
       "      <td>2018</td>\n",
       "      <td>1st sem</td>\n",
       "    </tr>\n",
       "    <tr>\n",
       "      <th>4</th>\n",
       "      <td>2</td>\n",
       "      <td>WF</td>\n",
       "      <td>11:30AM-1PM</td>\n",
       "      <td>TBA</td>\n",
       "      <td>AGUILAR, ADJANI</td>\n",
       "      <td>2018</td>\n",
       "      <td>1st sem</td>\n",
       "    </tr>\n",
       "    <tr>\n",
       "      <th>5</th>\n",
       "      <td>10</td>\n",
       "      <td>TTh</td>\n",
       "      <td>8:30-10AM</td>\n",
       "      <td>TBA</td>\n",
       "      <td>ARCEO, CARLENE PERPETUA</td>\n",
       "      <td>2018</td>\n",
       "      <td>1st sem</td>\n",
       "    </tr>\n",
       "  </tbody>\n",
       "</table>\n",
       "</div>"
      ],
      "text/plain": [
       "  Number  Day         Time Room                     Prof  Year Semester\n",
       "1      2  TTh    8:30-10AM  TBA        WALO, MA. LAILANI  2018  1st sem\n",
       "2      2  TTh   10-11:30AM  TBA         CEJO, ROBERT JAY  2018  1st sem\n",
       "3      2  TTh  11:30AM-1PM  TBA        WALO, MA. LAILANI  2018  1st sem\n",
       "4      2   WF  11:30AM-1PM  TBA          AGUILAR, ADJANI  2018  1st sem\n",
       "5     10  TTh    8:30-10AM  TBA  ARCEO, CARLENE PERPETUA  2018  1st sem"
      ]
     },
     "execution_count": 24,
     "metadata": {},
     "output_type": "execute_result"
    }
   ],
   "source": [
    "df.head()"
   ]
  },
  {
   "cell_type": "markdown",
   "metadata": {
    "id": "_5kwCnx1jO3X"
   },
   "source": [
    "## Convert to Military Time"
   ]
  },
  {
   "cell_type": "code",
   "execution_count": 25,
   "metadata": {
    "id": "Ziq0eZnDT9XD"
   },
   "outputs": [],
   "source": [
    "def to_military_time(time, suffix):\n",
    "    if \"AM\" not in time and \"PM\" not in time:\n",
    "        if \":\" in time:\n",
    "            hour, minute = time.split(\":\")\n",
    "            hour = int(hour)\n",
    "            minute = int(minute)\n",
    "            if suffix == \"PM\" and hour < 8:\n",
    "                hour += 12\n",
    "            return f\"{hour:02}:{minute:02}\"\n",
    "        else:\n",
    "            try:\n",
    "              time = int(time)\n",
    "              if suffix == \"PM\" and time < 8:\n",
    "                time += 12\n",
    "              return f\"{time:02}:00\"\n",
    "            except:\n",
    "              return f\"e: {time} 1\"\n",
    "    elif time[-2:] == \"AM\":\n",
    "        time = time[:-2]\n",
    "        if \":\" in time:\n",
    "            hour, minute = time.split(\":\")\n",
    "            hour = int(hour)\n",
    "            minute = int(minute)\n",
    "            return f\"{hour:02}:{minute:02}\"\n",
    "        else:\n",
    "            try:\n",
    "              time = int(time)\n",
    "              return f\"{time:02d}:00\"\n",
    "            except:\n",
    "              return f\"e: {time} 2\"\n",
    "    elif time[-2:] == \"PM\":\n",
    "        time = time[:-2]\n",
    "        if \":\" in time:\n",
    "            hour, minute = time.split(\":\")\n",
    "            hour = int(hour)\n",
    "            if hour < 8:\n",
    "              hour += 12\n",
    "            minute = int(minute)\n",
    "            return f\"{hour:02}:{minute:02}\"\n",
    "        else:\n",
    "            try:\n",
    "              time = int(time)\n",
    "              if time < 8:\n",
    "                time += 12\n",
    "              return f\"{time:02}:00\"\n",
    "            except:\n",
    "              return f\"e: {time} 3\"\n",
    "\n",
    "def split_time(time):\n",
    "    time = str(time)\n",
    "    if \"-\" not in time:\n",
    "        return \"\", \"\"\n",
    "    start_time, end_time = time.split('-')\n",
    "    start_time = str(start_time)\n",
    "    end_time = str(end_time)\n",
    "    suffix = time[-2:]\n",
    "    return to_military_time(start_time, suffix), to_military_time(end_time, suffix)"
   ]
  },
  {
   "cell_type": "code",
   "execution_count": 26,
   "metadata": {
    "colab": {
     "base_uri": "https://localhost:8080/"
    },
    "id": "Aq5U1voPY6D_",
    "outputId": "b5b9333b-15b6-4874-cab6-e923616e5e3e"
   },
   "outputs": [
    {
     "data": {
      "text/plain": [
       "array(['8:30-10AM', '10-11:30AM', '11:30AM-1PM', '1-2:30PM', '2:30-4PM',\n",
       "       '7-8:30AM', '2:30-3:45PM', '7:15-8:15AM', '8:45-9:45AM',\n",
       "       '1:15-2:15PM', '2:45-3:45PM', '10:15-11:15AM', '11:45AM-12:45PM',\n",
       "       '8:30-9:45AM', '1-2:15PM', '10-11:15AM', '11:30AM-12:45PM',\n",
       "       '4-5:30PM', '12-3PM', '8:30-11:30AM', '', '5:30-7PM', '10AM-1PM',\n",
       "       '4-7PM', '9AM-12PM', '7-10AM', '3-4PM', '4-5PM', '1-4PM',\n",
       "       '4:15-5:15PM', '3-6PM', '7-9AM', '9-11AM', '11AM-1PM',\n",
       "       '9:35AM-12:10PM', '12:10-2:45PM', '2:45-5:20PM', '7-9:35AM',\n",
       "       '10:15AM-1:30PM', '1-3PM', '7-8:15AM', '5-8PM', '2-5PM', '12-1PM',\n",
       "       '1-2PM', '10-11AM', '2:30-5:30PM', '8-11AM', '11:30AM-2:30PM',\n",
       "       '9-10AM', '11AM-12:15PM', '3-4:15PM', '9-10:15AM', '2:45-4:30PM',\n",
       "       '7-8:45AM', '9:35-11:20AM', '12:10-1:55PM', '5-6:15PM', '6-9PM',\n",
       "       '4-6PM', '7:30-9:30AM', '10:30AM-12:30PM', '6-7PM', '5-6PM',\n",
       "       '3-5PM'], dtype=object)"
      ]
     },
     "execution_count": 26,
     "metadata": {},
     "output_type": "execute_result"
    }
   ],
   "source": [
    "df[\"Time\"].unique()"
   ]
  },
  {
   "cell_type": "code",
   "execution_count": 27,
   "metadata": {
    "id": "J92HdTKvUwHL"
   },
   "outputs": [],
   "source": [
    "df[[\"Start_time\", \"End_time\"]] = df[\"Time\"].apply(lambda x: pd.Series(split_time(x)))"
   ]
  },
  {
   "cell_type": "markdown",
   "metadata": {
    "id": "636W96PLmmnP"
   },
   "source": [
    "## Remove Original Time column"
   ]
  },
  {
   "cell_type": "code",
   "execution_count": 28,
   "metadata": {
    "colab": {
     "base_uri": "https://localhost:8080/",
     "height": 206
    },
    "id": "Lz-g63zSmprm",
    "outputId": "af83c7a0-ec7b-43a8-b9a1-f2346e14559f",
    "scrolled": true
   },
   "outputs": [
    {
     "data": {
      "text/html": [
       "<div>\n",
       "<style scoped>\n",
       "    .dataframe tbody tr th:only-of-type {\n",
       "        vertical-align: middle;\n",
       "    }\n",
       "\n",
       "    .dataframe tbody tr th {\n",
       "        vertical-align: top;\n",
       "    }\n",
       "\n",
       "    .dataframe thead th {\n",
       "        text-align: right;\n",
       "    }\n",
       "</style>\n",
       "<table border=\"1\" class=\"dataframe\">\n",
       "  <thead>\n",
       "    <tr style=\"text-align: right;\">\n",
       "      <th></th>\n",
       "      <th>Number</th>\n",
       "      <th>Day</th>\n",
       "      <th>Room</th>\n",
       "      <th>Prof</th>\n",
       "      <th>Year</th>\n",
       "      <th>Semester</th>\n",
       "      <th>Start_time</th>\n",
       "      <th>End_time</th>\n",
       "    </tr>\n",
       "  </thead>\n",
       "  <tbody>\n",
       "    <tr>\n",
       "      <th>1</th>\n",
       "      <td>2</td>\n",
       "      <td>TTh</td>\n",
       "      <td>TBA</td>\n",
       "      <td>WALO, MA. LAILANI</td>\n",
       "      <td>2018</td>\n",
       "      <td>1st sem</td>\n",
       "      <td>08:30</td>\n",
       "      <td>10:00</td>\n",
       "    </tr>\n",
       "    <tr>\n",
       "      <th>2</th>\n",
       "      <td>2</td>\n",
       "      <td>TTh</td>\n",
       "      <td>TBA</td>\n",
       "      <td>CEJO, ROBERT JAY</td>\n",
       "      <td>2018</td>\n",
       "      <td>1st sem</td>\n",
       "      <td>10:00</td>\n",
       "      <td>11:30</td>\n",
       "    </tr>\n",
       "    <tr>\n",
       "      <th>3</th>\n",
       "      <td>2</td>\n",
       "      <td>TTh</td>\n",
       "      <td>TBA</td>\n",
       "      <td>WALO, MA. LAILANI</td>\n",
       "      <td>2018</td>\n",
       "      <td>1st sem</td>\n",
       "      <td>11:30</td>\n",
       "      <td>13:00</td>\n",
       "    </tr>\n",
       "    <tr>\n",
       "      <th>4</th>\n",
       "      <td>2</td>\n",
       "      <td>WF</td>\n",
       "      <td>TBA</td>\n",
       "      <td>AGUILAR, ADJANI</td>\n",
       "      <td>2018</td>\n",
       "      <td>1st sem</td>\n",
       "      <td>11:30</td>\n",
       "      <td>13:00</td>\n",
       "    </tr>\n",
       "    <tr>\n",
       "      <th>5</th>\n",
       "      <td>10</td>\n",
       "      <td>TTh</td>\n",
       "      <td>TBA</td>\n",
       "      <td>ARCEO, CARLENE PERPETUA</td>\n",
       "      <td>2018</td>\n",
       "      <td>1st sem</td>\n",
       "      <td>08:30</td>\n",
       "      <td>10:00</td>\n",
       "    </tr>\n",
       "  </tbody>\n",
       "</table>\n",
       "</div>"
      ],
      "text/plain": [
       "  Number  Day Room                     Prof  Year Semester Start_time End_time\n",
       "1      2  TTh  TBA        WALO, MA. LAILANI  2018  1st sem      08:30    10:00\n",
       "2      2  TTh  TBA         CEJO, ROBERT JAY  2018  1st sem      10:00    11:30\n",
       "3      2  TTh  TBA        WALO, MA. LAILANI  2018  1st sem      11:30    13:00\n",
       "4      2   WF  TBA          AGUILAR, ADJANI  2018  1st sem      11:30    13:00\n",
       "5     10  TTh  TBA  ARCEO, CARLENE PERPETUA  2018  1st sem      08:30    10:00"
      ]
     },
     "execution_count": 28,
     "metadata": {},
     "output_type": "execute_result"
    }
   ],
   "source": [
    "df = df.drop(columns=[\"Time\"])\n",
    "df.head()"
   ]
  },
  {
   "cell_type": "markdown",
   "metadata": {
    "id": "KKP1hLh-ue-G"
   },
   "source": [
    "# Save to CSV"
   ]
  },
  {
   "cell_type": "code",
   "execution_count": 29,
   "metadata": {
    "id": "2nQgfzCjuV4b"
   },
   "outputs": [],
   "source": [
    "df.to_csv(\"CRS Math Profs (2018-2024).csv\")"
   ]
  }
 ],
 "metadata": {
  "colab": {
   "provenance": []
  },
  "kernelspec": {
   "display_name": "Python 3 (ipykernel)",
   "language": "python",
   "name": "python3"
  },
  "language_info": {
   "codemirror_mode": {
    "name": "ipython",
    "version": 3
   },
   "file_extension": ".py",
   "mimetype": "text/x-python",
   "name": "python",
   "nbconvert_exporter": "python",
   "pygments_lexer": "ipython3",
   "version": "3.11.9"
  }
 },
 "nbformat": 4,
 "nbformat_minor": 4
}
